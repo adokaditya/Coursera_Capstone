{
 "cells": [
  {
   "cell_type": "markdown",
   "metadata": {},
   "source": [
    "# Manhattan Juice Bar                        ( week 1)\n",
    "## IBM Data Science Capstone Project - Aditya Maddali"
   ]
  },
  {
   "cell_type": "markdown",
   "metadata": {},
   "source": [
    "## Table of contents\n",
    "* [Introduction](#introduction)\n",
    "* [Data](#data)"
   ]
  },
  {
   "cell_type": "markdown",
   "metadata": {},
   "source": [
    "## Introduction <a name=\"introduction\"></a>\n",
    "\n",
    "The health and wellness food market is a rapidly evolving industry whose revenues are expected to reach 811.82 Billion dollars in 2021 according to Statista.\n",
    "\n",
    "Consumers are more concious than ever about the food they consume. This focus on healthy eating is seeing two biggest trends: Transparency and Naturalness\n",
    "\n",
    "* **Transparency**: Consumers are demanding to know what goes into their food. Purity and quality of ingredients are of utmost importance. Unnatural chemicals and preservatives are being shunned. Hence companies are increasingly flaunting the ingredients of their products.\n",
    "\n",
    "\n",
    "* **Naturalness**: Consumers are preferring food that is more natural and less processed. Research has shown that natural food is easier for our bodies to process and better for us. Natural foods are typically high in fiber and low in salt and sugar. Natural foods help us feel fuller with fewer calories thereby satisfying our cravings.\n",
    "\n",
    "\n",
    "The objective of this project is to help players in the health and wellness food market to setup their physical locations in the **Mahattan,NY**. The project will provide valuable location insights to **fresh juice stands, juice bars, healthy smoothie stations, juice cleanse** or similar businesses. The results can be of interest to the health and wellness industry in general that is hoping to operate in Manhattan area.\n",
    "\n",
    "Healthy eating is a part of **Healthy Living**. There is a proven strong co-relation between healthy habits. People who workout regularly are the people that eat healthy and maintain a healthy lifestyle. This project utilizes this co-relation between healthy habits to analyze fitness center locations in Manhattan and recommend optimal locations to setup a juice bar.\n",
    "\n",
    "\n",
    "This methodology has the following benefits:\n",
    "1. It will serve the existing customer base of the nearby fitness centers which is the prime target\n",
    "2. There is potential for cross-promotion between these two kinds of businesses"
   ]
  },
  {
   "cell_type": "markdown",
   "metadata": {},
   "source": [
    "## Data <a name=\"data\"></a>\n",
    "\n",
    "In order determine locations optimal to setup juice bars in Manhattan, we need the following data:\n",
    "\n",
    "\n",
    "1. Location of fitness centers in Manhattan:\n",
    "   \n",
    "   We want to be within **500m** of these fitness centers to take full advantage of their customers. \n",
    "   \n",
    "   \n",
    "2. Location of existing juice bars in Manhattan:\n",
    "\n",
    "    We want to avoid existing juice bars that are near fitness centers to reduce our competition.\n",
    "\n",
    "\n",
    "3. Location of existing health and wellness markets in Manhattan:\n",
    "\n",
    "    We want to understand the locations of existing health and wellness markets to potentially develop synergistic  relationships, if they are within our areas of interest.\n",
    "\n",
    "\n",
    "\n",
    "The data used for the analysis are:\n",
    "\n",
    "* **2014 New York City data** from NYU Spatial Data Repository and \n",
    "* Business/landmark information obtained via **Foursquare API**."
   ]
  },
  {
   "cell_type": "code",
   "execution_count": null,
   "metadata": {},
   "outputs": [],
   "source": []
  }
 ],
 "metadata": {
  "kernelspec": {
   "display_name": "Python 3",
   "language": "python",
   "name": "python3"
  },
  "language_info": {
   "codemirror_mode": {
    "name": "ipython",
    "version": 3
   },
   "file_extension": ".py",
   "mimetype": "text/x-python",
   "name": "python",
   "nbconvert_exporter": "python",
   "pygments_lexer": "ipython3",
   "version": "3.8.3"
  }
 },
 "nbformat": 4,
 "nbformat_minor": 4
}

{
 "cells": [
  {
   "cell_type": "markdown",
   "metadata": {},
   "source": [
    "# Coursera Capstone Project - Car accident severity - Week 1"
   ]
  },
  {
   "cell_type": "markdown",
   "metadata": {},
   "source": [
    "### by Aditya Maddali"
   ]
  },
  {
   "cell_type": "markdown",
   "metadata": {},
   "source": [
    "## Table of contents\n",
    "* [Introduction](#introduction)\n",
    "* [Data](#data)"
   ]
  },
  {
   "cell_type": "markdown",
   "metadata": {},
   "source": [
    "## Introduction <a name=\"introduction\"></a>"
   ]
  },
  {
   "cell_type": "markdown",
   "metadata": {},
   "source": [
    "The objective of the project is to evaluate the severity of accidents based on multiple factors like environment and driver condition. The ultimately aim is to predict the severity of an accident based on the contributing factors.\n",
    "\n",
    "The results will be of interest to law enforcement, emergency response services and other agencies that are interested in understanding the role of below mentioned factors on accident severity. Armed with this understanding, these agencies can perform two functions:\n",
    "\n",
    "1. Mitigate accident severity by reducing the impact and/or probability of contributing factors \n",
    "2. Provide better timely response to accidents by understanding risk prone areas.\n",
    "\n",
    "The analysis is based on accident data from 2004 to May-2020 provided by Seattle Police Department and Seattle Department of Transportation."
   ]
  },
  {
   "cell_type": "markdown",
   "metadata": {},
   "source": [
    "## Data <a name=\"data\"></a>"
   ]
  },
  {
   "cell_type": "markdown",
   "metadata": {},
   "source": [
    "In order to evaluate the severity of the accident, the first step is to come up with a metric: **Accident Severity Indicator** that encapsulates the total damage due to the accident. This metric will include the severity of the accident as defined by SDOT and the number of people involved. For accidents that caused only property damage, the number of vehicles involved will be included in this metric. Once established, the data will be analyzed for factors that will affect this metric.\n",
    "\n",
    "The factors that will effect the **Accident Severity Indicator** metric can broadly classified into two categories:\n",
    "\n",
    "**1. External Factors**\n",
    "\n",
    "External Factors are environmental conditions in which the accident takes place. These are: location of the accident, road conditions, weather conditions etc.\n",
    "\n",
    "**2. Internal Factors**\n",
    "\n",
    "Internal Factors are a sum total of the state of the driver when the accident took place. That is, if the driver was attentive or if the driver was under the influence of substances etc.\n",
    "\n",
    "The correlation between these factors and the target metric will be analyzed and a model will be created that will predict the severity given a set of conditions.\n"
   ]
  },
  {
   "cell_type": "code",
   "execution_count": null,
   "metadata": {},
   "outputs": [],
   "source": []
  }
 ],
 "metadata": {
  "kernelspec": {
   "display_name": "Python 3",
   "language": "python",
   "name": "python3"
  },
  "language_info": {
   "codemirror_mode": {
    "name": "ipython",
    "version": 3
   },
   "file_extension": ".py",
   "mimetype": "text/x-python",
   "name": "python",
   "nbconvert_exporter": "python",
   "pygments_lexer": "ipython3",
   "version": "3.8.3"
  }
 },
 "nbformat": 4,
 "nbformat_minor": 4
}
